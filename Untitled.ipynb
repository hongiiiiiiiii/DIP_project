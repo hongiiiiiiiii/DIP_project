{
 "cells": [
  {
   "cell_type": "code",
   "execution_count": null,
   "id": "96544727",
   "metadata": {},
   "outputs": [],
   "source": []
  },
  {
   "cell_type": "code",
   "execution_count": null,
   "id": "bb2794b2",
   "metadata": {},
   "outputs": [],
   "source": []
  },
  {
   "cell_type": "code",
   "execution_count": null,
   "id": "acfcae61",
   "metadata": {},
   "outputs": [],
   "source": []
  },
  {
   "cell_type": "code",
   "execution_count": 2,
   "id": "1da0a4d5",
   "metadata": {},
   "outputs": [],
   "source": [
    "# 셀레니움" "# 셀레니움" "셀레니움"
    "from selenium import webdriver\n",
    "from selenium.webdriver.common.keys import Keys\n",
    "from bs4 import BeautifulSoup\n",
    "from time import sleep\n",
    "import requests\n",
    "import re\n",
    "import pandas as pd\n",
    "import numpy as np\n",
    "import os\n",
    "import time\n",
    "from selenium.webdriver.common.by import By\n",
    "from selenium.webdriver.support.ui import WebDriverWait\n",
    "from selenium.webdriver.support import expected_conditions as EC\n",
    "from selenium.webdriver import ActionChains"
   ]
  },
  {
   "cell_type": "code",
   "execution_count": 3,
   "id": "e816bc5c",
   "metadata": {},
   "outputs": [
    {
     "name": "stdout",
     "output_type": "stream",
     "text": [
      "['2021.01.01 ~ 2021.12.31', '2021.01.01 ~ 2021.12.31', '2021.01.01 ~ 2021.12.31', '2021.01.01 ~ 2021.12.31', '2021.01.01 ~ 2021.12.31', '2021.01.01 ~ 2021.12.31', '2021.01.01 ~ 2021.12.31', '2021.01.01 ~ 2021.12.31', '2021.01.01 ~ 2021.12.31', '2021.01.01 ~ 2021.12.31', '2021.01.01 ~ 2021.12.31', '2021.01.01 ~ 2021.12.31', '2021.01.01 ~ 2021.12.31', '2021.01.01 ~ 2021.12.31', '2021.01.01 ~ 2021.12.31', '2021.01.01 ~ 2021.12.31', '2021.01.01 ~ 2021.12.31', '2021.01.01 ~ 2021.12.31', '2021.01.01 ~ 2021.12.31', '2021.01.01 ~ 2021.12.31', '2021.01.01 ~ 2021.12.31', '2021.01.01 ~ 2021.12.31', '2021.01.01 ~ 2021.12.31', '2021.01.01 ~ 2021.12.31', '2021.01.01 ~ 2021.12.31', '2021.01.01 ~ 2021.12.31', '2021.01.01 ~ 2021.12.31', '2021.01.01 ~ 2021.12.31', '2021.01.01 ~ 2021.12.31', '2021.01.01 ~ 2021.12.31']\n"
     ]
    }
   ],
   "source": [
    "# datas = []\n",
    "data = {}\n",
    "\n",
    "url = 'https://www.kyobobook.co.kr/bestSellerNew/bestseller.laf?range=1&kind=3&orderClick=DAC&mallGb=KOR&linkClass=A'\n",
    "driver = webdriver.Chrome('C:/test/chromedriver.exe')\n",
    "driver.implicitly_wait(10)\n",
    "driver.get(url)\n",
    "driver.find_element_by_xpath('//*[@id=\"main_contents\"]/div[2]/ul/li[11]/a').click()  # 경제경영 카테코리 클릭\n",
    "\n",
    "\n",
    "book_title, book_field, book_hash_tag, book_introduce, book_publisher, book_year = [], [], [], [], [], []\n",
    "\n",
    "# 연도 변경\n",
    "for y_click in range(1, 2): # 2012년까지 하려면 11로 수정필요\n",
    "    y_click = str(y_click)\n",
    "    driver.find_element_by_xpath('//*[@id=\"main_contents\"]/div[3]/div/span[2]/a').click() # 연도 더보기 클릭\n",
    "    driver.find_element_by_xpath('//*[@id=\"main_contents\"]/div[3]/div/span[2]/ul/li['+y_click+']/a').click()  # 연도 클릭 (for문 필요)\n",
    "    year = driver.find_element_by_xpath('//*[@id=\"main_contents\"]/div[3]/div/span[2]/a').text #연도 텍스트 추출\n",
    "    \n",
    "    for page in range(2):\n",
    "        parentelement = driver.find_element_by_class_name('list_type01')\n",
    "        book_count = len(parentelement.find_elements_by_class_name('cover'))\n",
    "\n",
    "        for book_list in range(1, book_count+1):  # 책 리스트개수이므로 21로 수정필요\n",
    "            \n",
    "            book_year.append(year)\n",
    "            element = WebDriverWait(driver, 10).until(EC.presence_of_element_located((By.XPATH, '//*[@id=\"main_contents\"]/ul/li['+str(book_list)+']/div[2]/div[2]/a')))\n",
    "            element.click()\n",
    "            time.sleep(3)\n",
    "\n",
    "            # 텍스트 크롤링 시작\n",
    "            title = list(driver.find_element_by_xpath('//*[@id=\"container\"]/div[2]/form/div[1]/h1/strong').text.splitlines())  # 책 제목 출력\n",
    "            field = list(driver.find_element_by_xpath('//*[@id=\"container\"]/div[5]/div[1]/div[*]/ul/li/a[1]').text.split(' '))  # 카테고리 출력  \n",
    "            hash_tag = list(driver.find_element_by_xpath('//*[@id=\"container\"]/div[5]/div[1]/div[*]/div[2]').text.splitlines())  # 해시태그 출력\n",
    "            introduce = driver.find_element_by_xpath('//*[@id=\"container\"]/div[5]/div[1]/div[*]/div[4]').text  # 소개글 출력\n",
    "\n",
    "        \n",
    "            book_title += title\n",
    "            book_field += field\n",
    "            book_hash_tag += hash_tag\n",
    "            book_introduce.append(introduce)\n",
    "\n",
    "\n",
    "            # 출판사 총평\n",
    "            anchor_xpath='''//*[@id=\"container\"]/div[5]/div[1]/div/h2[contains(text(), '출판사 서평')]//following-sibling::div/div/a'''\n",
    "            driver.find_element_by_xpath(anchor_xpath).click()\n",
    "            anchor_xpath = '''//*[@id=\"container\"]/div[5]/div[1]/div/h2[contains(text(), '출판사 서평')]//following-sibling::div/div[2]'''\n",
    "            publisher = driver.find_element_by_xpath(anchor_xpath).text\n",
    "            book_publisher.append(publisher)\n",
    "\n",
    "            driver.back()  # 뒤로가기 버튼\n",
    "            time.sleep(3)\n",
    "        \n",
    "        try:\n",
    "            driver.find_element_by_xpath('//*[@id=\"main_contents\"]/div[4]/div[1]/ul/li[2]/a').click() # 2페이지로 이동\n",
    "            time.sleep(3)\n",
    "        except:\n",
    "            pass\n",
    "    print(book_year)\n",
    "data[\"year\"] = book_year\n",
    "data[\"book_name\"] = book_title\n",
    "data[\"book_categories\"] = book_field\n",
    "data[\"hash\"] = book_hash_tag\n",
    "data[\"intro\"] = book_introduce\n",
    "data[\"pub\"] = book_publisher\n",
    "\n",
    "# datas.append(data)"
   ]
  },
  {
   "cell_type": "code",
   "execution_count": null,
   "id": "67647f83",
   "metadata": {},
   "outputs": [],
   "source": []
  }
 ],
 "metadata": {
  "kernelspec": {
   "display_name": "Python 3 (ipykernel)",
   "language": "python",
   "name": "python3"
  },
  "language_info": {
   "codemirror_mode": {
    "name": "ipython",
    "version": 3
   },
   "file_extension": ".py",
   "mimetype": "text/x-python",
   "name": "python",
   "nbconvert_exporter": "python",
   "pygments_lexer": "ipython3",
   "version": "3.9.7"
  }
 },
 "nbformat": 4,
 "nbformat_minor": 5
}
