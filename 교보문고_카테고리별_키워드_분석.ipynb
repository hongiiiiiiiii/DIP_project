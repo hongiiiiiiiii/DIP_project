{
 "cells": [
  {
   "cell_type": "code",
   "execution_count": 1,
   "id": "d7db0c35",
   "metadata": {
    "scrolled": true
   },
   "outputs": [
    {
     "name": "stderr",
     "output_type": "stream",
     "text": [
      "C:\\Anaconda3\\lib\\site-packages\\pyspark\\sql\\context.py:77: FutureWarning: Deprecated in 3.0.0. Use SparkSession.builder.getOrCreate() instead.\n",
      "  warnings.warn(\n"
     ]
    },
    {
     "name": "stdout",
     "output_type": "stream",
     "text": [
      "+-----+---------------+-----------------------------+------------+-----------------------------------+\n",
      "|index|book_categories|                    book_name|book_ratings|                       book_reviews|\n",
      "+-----+---------------+-----------------------------+------------+-----------------------------------+\n",
      "|10946|    취업/수험서|2022 신용한 행정학 세트 공...|           4|           역시 신용한 쌤의 행정학!|\n",
      "|10947|    취업/수험서|2022 신용한 행정학 세트 공...|           4|     배송도 빠르고 좋아요���� 열...|\n",
      "|10948|    취업/수험서|2022 신용한 행정학 세트 공...|           4|         책 구성 너무 마음에 듭니다|\n",
      "|10949|    취업/수험서|2022 신용한 행정학 세트 공...|           4|               정리가 잘 되어있어요|\n",
      "|10950|    취업/수험서|2022 신용한 행정학 세트 공...|           3|  같이 쓴 합격노트는 안와서 짜증...|\n",
      "|10951|    취업/수험서|2022 신용한 행정학 세트 공...|           4|행정학을 효율적으로 공부할수 있어요|\n",
      "|10952|    취업/수험서|2022 신용한 행정학 세트 공...|           4|  강의화면에 나오는 표가 책에도 ...|\n",
      "|10953|    취업/수험서|2022 신용한 행정학 세트 공...|           4|             구성과 알차고 좋습니다|\n",
      "|10954|    취업/수험서|2022 신용한 행정학 세트 공...|           4|  책 디자인 예뻐요 안에도 편집 깔끔|\n",
      "|10955|    취업/수험서|2022 신용한 행정학 세트 공...|           4|  행정학을 처음 접하는데 설명이 ...|\n",
      "|10956|    취업/수험서|2022 신용한 행정학 세트 공...|           4|        강의와 함께 사용하면 좋아요|\n",
      "|10957|    취업/수험서|2022 신용한 행정학 세트 공...|           3|                    유용해요~~~~~~~|\n",
      "|10958|    취업/수험서|2022 신용한 행정학 세트 공...|           4|                믿고보는 신용한강사|\n",
      "|10959|    취업/수험서|2022 신용한 행정학 세트 공...|           4|       배송도 빠르고 책 좋네요~ㅎㅎ|\n",
      "|10960|    취업/수험서|2022 신용한 행정학 세트 공...|           4|  아주 저아요 정리도 좋고 깔끔해...|\n",
      "|10961|    취업/수험서|2022 신용한 행정학 세트 공...|           4|  공무원 행정학 학습 방향 설정에...|\n",
      "|10962|    취업/수험서|2022 신용한 행정학 세트 공...|           4|               깔끔해서 보기 좋아요|\n",
      "|10963|    취업/수험서|2022 신용한 행정학 세트 공...|           4|          신용한 2022 행정학 기본서|\n",
      "|10964|    취업/수험서|2022 신용한 행정학 세트 공...|           4|  행정학은 신용학 행정학이 최고!...|\n",
      "|10965|    취업/수험서|2022 신용한 행정학 세트 공...|           4|              좋은 책이고 추천해요.|\n",
      "+-----+---------------+-----------------------------+------------+-----------------------------------+\n",
      "only showing top 20 rows\n",
      "\n"
     ]
    }
   ],
   "source": [
    "from pyspark.sql import *\n",
    "\n",
    "import pandas as pd\n",
    "import seaborn as sns\n",
    "import pyspark\n",
    "\n",
    "conf = pyspark.SparkConf()\\\n",
    "        .setAppName(\"spark-sql\")\\\n",
    "        .set(\"spark.driver.extraClassPath\", \"./driver/mysql-connector-java-8.0.17.jar\")\n",
    "\n",
    "sc = pyspark.SparkContext(conf=conf)\n",
    "\n",
    "sqlCtx = SQLContext(sc)\n",
    "spark = sqlCtx.sparkSession\n",
    "\n",
    "sql_url = \"book.cvmrepjyvhmd.ap-northeast-2.rds.amazonaws.com\"\n",
    "user = \"admin\"\n",
    "password = \"pooiiioop\"\n",
    "database = \"kyobobook\"\n",
    "table = \"reviews\"\n",
    "\n",
    "\n",
    "jdbc = spark.read.format(\"jdbc\")\\\n",
    "                .option(\"driver\", \"com.mysql.cj.jdbc.Driver\")\\\n",
    "                .option(\"url\", \"jdbc:mysql://{}:3306/{}?serverTimezone=Asia/Seoul \".format(sql_url, database))\\\n",
    "                .option(\"user\", user)\\\n",
    "                .option(\"password\", password)\\\n",
    "                .option(\"dbtable\", table)\\\n",
    "                .load()\n",
    "jdbc.show()"
   ]
  },
  {
   "cell_type": "code",
   "execution_count": 33,
   "id": "37d2faa6",
   "metadata": {},
   "outputs": [],
   "source": []
  },
  {
   "cell_type": "code",
   "execution_count": null,
   "id": "10a59623",
   "metadata": {},
   "outputs": [],
   "source": []
  }
 ],
 "metadata": {
  "kernelspec": {
   "display_name": "Python 3 (ipykernel)",
   "language": "python",
   "name": "python3"
  },
  "language_info": {
   "codemirror_mode": {
    "name": "ipython",
    "version": 3
   },
   "file_extension": ".py",
   "mimetype": "text/x-python",
   "name": "python",
   "nbconvert_exporter": "python",
   "pygments_lexer": "ipython3",
   "version": "3.9.7"
  }
 },
 "nbformat": 4,
 "nbformat_minor": 5
}
